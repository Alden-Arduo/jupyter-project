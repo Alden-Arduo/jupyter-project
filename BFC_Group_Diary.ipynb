{
 "cells": [
  {
   "cell_type": "markdown",
   "id": "dcfdd1c5-443f-4ee6-8f7e-75881e3dcbfd",
   "metadata": {},
   "source": [
    "# Group Diary\n",
    "Alden Arduo - 31878039,   Qingwei Fang - 32175650,   Guanwei Li - 34195384 ."
   ]
  },
  {
   "cell_type": "markdown",
   "id": "42cf2c23-a0b6-4399-ae4e-5057765146a2",
   "metadata": {},
   "source": [
    "A logbook for the days we met and did our project. \n",
    "\n",
    "We included our individual efforts here as well."
   ]
  },
  {
   "cell_type": "markdown",
   "id": "7d66cfe2-951a-4da1-8582-740621820e80",
   "metadata": {},
   "source": [
    "### 24/9/2021: \n",
    "\n",
    "We met each other during week 8 lab and we created our group named BFC. \n",
    "At that time, we started prototyping our project. We came up with ten keywords each and popped out  ideas that may help with the topic. We then looked for datasources and we found two. At the end of the lab, we decided that our topic would be about crime and the region.\n"
   ]
  },
  {
   "cell_type": "markdown",
   "id": "0234d3ed-cf7c-400c-984d-3b081287eb6a",
   "metadata": {},
   "source": [
    "### 1/10/2021: \n",
    "\n",
    "This was week 9 lab. We wanted to expand our topic to each region's income and perhaps their gender and compare that against the number of crimes. We found a dataset for this and we were satisfied. We spent the remaining hour trying to get the link for that data so it automatically downloads when passed in read_csv(), but we couldn’t. We had to stay for another hour in the lab to sort it out. The dataset that we wanted is in a file and there are two datasets in the file and we thought that was where the problem is. \n",
    "\n",
    "We had one of the tutors named Ateeth who helped us sort this out. In the end, we couldn’t.\n",
    "At that point, we were thinking of changing our topic.\n"
   ]
  },
  {
   "cell_type": "markdown",
   "id": "bddafc04-f740-4858-a32f-db9468573727",
   "metadata": {},
   "source": [
    "### 8/10/2021:\n",
    "\n",
    "This was week 10 lab. We met a little early at 1:00. We encountered another problem which was we couldn’t find a dataset that we can web scrape for our topic. During this time, we were also learning how to use Stats NZ API.\n",
    "\n",
    "At 3:00 pm, we went to the lab and had a group discussion with other groups. We have heard their experiences and we have learned from them. One group raised questions on our topic on how ethical the topic is. They told us to be careful when describing crimes, gender and income together as that could be interpreted differently by other people. We thought that was a pretty good advice.\n",
    "\n",
    "As a result,  we changed our topic to ‘what factor/s affected NZ economy/GDP during Covid?’\n"
   ]
  },
  {
   "cell_type": "markdown",
   "id": "dcd82172-08bd-4c6d-8670-4052834be6de",
   "metadata": {},
   "source": [
    "### 12/10/2021: \n",
    "\n",
    "This was on Tuesday at 6:00 pm in Erskine. We decided to do four variables for our topic: total filled jobs, net export, number of tourists and GDP. We also found our three datasources:\n",
    "Stats NZ API, and two from Wikipedia. We were fortunate to include API and web scraping to our project. \n",
    "\n",
    "We went ahead and got started with wrangling total filled jobs. However, we noticed that it was getting late so we stopped and allocated each job.\n",
    "\n",
    "Alden would do the total filled job and net export wrangling.\n",
    "\n",
    "Guanwei (Koby) would do the number of tourists wrangling. \n",
    "\n",
    "Qingwei (Barry) would do the GDP wrangling.\n"
   ]
  },
  {
   "cell_type": "markdown",
   "id": "8844408a-f38f-4b40-97c7-a48e84c25dac",
   "metadata": {},
   "source": [
    "### 13/10/2021\n",
    "\n",
    "Alden: I worked on total filled jobs and net export datasets. The most difficult part of this is understanding how the API works. I managed to understand it and went ahead to wrangle them.\n",
    "\n",
    "There was no problem wrangling total filled jobs whereas the net export was challenging. I needed to do two separate columns and then join them again to calculate net export. I managed to finish both datasets and produced some plots.\n"
   ]
  },
  {
   "cell_type": "markdown",
   "id": "cbaa757a-78fc-4afe-afa8-5811bbb96b59",
   "metadata": {},
   "source": [
    "### 14/10/2021:\n",
    "\n",
    "Koby: I worked on the number of tourists dataset. It took me a while to web scrape the table that I wanted. It was in a list of lists so I had to get clever with the css selector and indexing. Also, I had to turn it into a long format. Finally I produced the plot for this.\n",
    "\n",
    "Barry: I did the GDP dataset. I web scraped the table we needed then I produced the final plot for it.\n"
   ]
  },
  {
   "cell_type": "markdown",
   "id": "8a6f3d70-d8f3-4747-a93f-9bc1df438f3d",
   "metadata": {},
   "source": [
    "### 15/10/2021:\n",
    "\n",
    "\n",
    "This was week 11 lab. We continued to work on the project, editing the project and putting explanations for every graph and  code. It took us about an hour, then we moved to discussing the presentation. We decided to split the workload.\n",
    "\n",
    "We came up with a plan like this:\n",
    "\n",
    "Introduction - Koby\n",
    "\n",
    "Total filled jobs - Barry\n",
    "\n",
    "Net export - Alden\n",
    "\n",
    "Tourism - Koby\n",
    "\n",
    "GDP - Barry\n",
    "\n",
    "Closing - Alden\n"
   ]
  },
  {
   "cell_type": "markdown",
   "id": "ed094597-c5c8-4828-a53c-ab36bb61ae00",
   "metadata": {},
   "source": [
    "### 20/10/2021:\n",
    "\n",
    "We met in the library at around 3:00 pm. Our goal was to finish the report and the presentation. \n",
    "With the report, we split the tasks and this is what it looks like:\n",
    "Koby would do the first and second question.\n",
    "Alden would do the third, fourth and seventh question.\n",
    "Barry would do the fifth and sixth question. \n",
    "\n",
    "In this way we would be able to finish the report quickly and have more time to do the presentation. \n",
    "It took us roughly an hour and a half.\n",
    "\n",
    "Then we moved to doing our presentation. We also splitted the tasks into this\n",
    "\n",
    "Introduction - Koby\n",
    "\n",
    "Total filled jobs - Barry\n",
    "\n",
    "Net export - Alden\n",
    "\n",
    "Tourism - Koby\n",
    "\n",
    "GDP - Barry\n",
    "\n",
    "Closing - Alden\n",
    "\n",
    "We did the presentation like this so each one would do their part and include what they want to talk about on their part.It took us about an hour and half as well because we want to make sure everything flows.\n",
    "\n",
    "We finished at around 6:30 pm.\n"
   ]
  },
  {
   "cell_type": "markdown",
   "id": "08295ba7-ba93-451e-ba7c-6b9ea4ce766f",
   "metadata": {},
   "source": [
    "### 22/10/2021:\n",
    "This was week 12 lab. We were doing the final touches with the project, report and presentation.\n",
    "\n",
    "However, we were advised to include a relational table in our project. We thought it was a good idea and we instantly got to work to finish that one. At this point, we had to edit the project, the report and especially the presentation.\n",
    "\n",
    "We changed the plan for the presentation slightly to fit the relation:\n",
    "\n",
    "Introduction - Koby\n",
    "\n",
    "Total filled jobs - Barry\n",
    "\n",
    "Net export - Alden\n",
    "\n",
    "Tourism - Koby\n",
    "\n",
    "GDP - Barry\n",
    "\n",
    "Relational Table - Alden\n",
    "\n",
    "Closing - Barry\n",
    "\n",
    "We also got to see one group do their presentation. \n",
    "We then went ahead and edited the presentation once again. \n"
   ]
  },
  {
   "cell_type": "markdown",
   "id": "5e896c3c-80f3-4a91-a89f-f746c714b49b",
   "metadata": {},
   "source": [
    "### 23/10/2021:\n",
    "\n",
    "We met at the library around 6:00 pm in one of the discussion rooms. We were there for an hour practising for the presentation. Our first try was not so great as we went over 10 minutes. \n",
    "As a result, we had to make sure to only include the important bits. Our second try was way better as we were at 8:00 minutes. We kept going until we were confident with it. \n",
    "\n",
    "We managed to finish at around 7:00 pm.\n"
   ]
  },
  {
   "cell_type": "markdown",
   "id": "d4d6abc7-3712-4792-8b97-0d1f6bdc783d",
   "metadata": {},
   "source": [
    "### 24/10/2021:\n",
    "\n",
    "We met at the library at 3:00 pm.\n",
    "\n",
    "We started doing the final data and documentation for this project. For this final part of the project, we followed our plan for the presentation because we thought that it makes sense to do what we wrangled. For example, Alden was assigned to do the total filled jobs and net export dataset, and explanations.\n",
    "\n",
    "At this point, the challening part was referencing the sources we used to explain the data (excluding the sources where the datasets are from).\n",
    "\n",
    "We managed to get it done at 5:00 pm.\n"
   ]
  },
  {
   "cell_type": "markdown",
   "id": "5f8cc33f-6974-41f3-8502-ebada2b20b35",
   "metadata": {},
   "source": [
    "### 26/10/2021:\n",
    "\n",
    "We presented on this day at the time slot 9 - 11 am. We were actually one of the first groups to arrive at the place. \n",
    "\n",
    "We were called to present and we had a slight difficulty with the projector and other tech stuff, but we managed to get help and it was sorted immediately.  We then presented an it took us about 8:00 minutes.\n",
    "\n",
    "We thought that it went great. \n"
   ]
  },
  {
   "cell_type": "markdown",
   "id": "30eeb5c3-f327-4059-b601-d570452029bd",
   "metadata": {},
   "source": [
    "### 27/10/2021:\n",
    "\n",
    "Alden: I created a Github account so we can upload all our work there. So that if someone wants to access our project then they can do so.\n"
   ]
  }
 ],
 "metadata": {
  "kernelspec": {
   "display_name": "R",
   "language": "R",
   "name": "ir"
  },
  "language_info": {
   "codemirror_mode": "r",
   "file_extension": ".r",
   "mimetype": "text/x-r-source",
   "name": "R",
   "pygments_lexer": "r",
   "version": "4.1.0"
  }
 },
 "nbformat": 4,
 "nbformat_minor": 5
}
